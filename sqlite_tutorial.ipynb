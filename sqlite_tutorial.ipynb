{
 "cells": [
  {
   "cell_type": "code",
   "execution_count": 1,
   "metadata": {},
   "outputs": [],
   "source": [
    "import sqlite3"
   ]
  },
  {
   "cell_type": "markdown",
   "metadata": {},
   "source": [
    "# Introduzione"
   ]
  },
  {
   "cell_type": "code",
   "execution_count": 2,
   "metadata": {},
   "outputs": [],
   "source": [
    "# crea un nuovo database su disco\n",
    "conn = sqlite3.connect('example.db')\n",
    "\n",
    "# crea un nuovo database in memoria\n",
    "# conn = sqlite3.connect('example.db')"
   ]
  },
  {
   "cell_type": "code",
   "execution_count": 5,
   "metadata": {},
   "outputs": [
    {
     "data": {
      "text/plain": [
       "<sqlite3.Cursor at 0x17f90654bc0>"
      ]
     },
     "execution_count": 5,
     "metadata": {},
     "output_type": "execute_result"
    }
   ],
   "source": [
    "# chiedi quali sono le tabelle presenti nel database\n",
    "cursor = conn.cursor()\n",
    "cursor.execute(\"SELECT name FROM sqlite_master\")"
   ]
  },
  {
   "cell_type": "code",
   "execution_count": 7,
   "metadata": {},
   "outputs": [
    {
     "data": {
      "text/plain": [
       "[]"
      ]
     },
     "execution_count": 7,
     "metadata": {},
     "output_type": "execute_result"
    }
   ],
   "source": [
    "# il database è vuoto, quindi non ci sono tabelle\n",
    "cursor.fetchall()"
   ]
  },
  {
   "cell_type": "code",
   "execution_count": 8,
   "metadata": {},
   "outputs": [
    {
     "data": {
      "text/plain": [
       "<sqlite3.Cursor at 0x17f90654bc0>"
      ]
     },
     "execution_count": 8,
     "metadata": {},
     "output_type": "execute_result"
    }
   ],
   "source": [
    "# crea una tabella anagrafica\n",
    "cursor.execute(\"CREATE TABLE anagrafica (nome TEXT, cognome TEXT, eta INT)\")"
   ]
  },
  {
   "cell_type": "code",
   "execution_count": 10,
   "metadata": {},
   "outputs": [
    {
     "data": {
      "text/plain": [
       "<sqlite3.Cursor at 0x17f90654bc0>"
      ]
     },
     "execution_count": 10,
     "metadata": {},
     "output_type": "execute_result"
    }
   ],
   "source": [
    "cursor.execute(\"SELECT name FROM sqlite_master\")"
   ]
  },
  {
   "cell_type": "code",
   "execution_count": 11,
   "metadata": {},
   "outputs": [
    {
     "data": {
      "text/plain": [
       "[('anagrafica',)]"
      ]
     },
     "execution_count": 11,
     "metadata": {},
     "output_type": "execute_result"
    }
   ],
   "source": [
    "cursor.fetchall()"
   ]
  },
  {
   "cell_type": "code",
   "execution_count": 14,
   "metadata": {},
   "outputs": [
    {
     "data": {
      "text/plain": [
       "<sqlite3.Cursor at 0x17f90654bc0>"
      ]
     },
     "execution_count": 14,
     "metadata": {},
     "output_type": "execute_result"
    }
   ],
   "source": [
    "cursor.execute(\n",
    "    \"\"\"\n",
    "    INSERT INTO anagrafica (nome, cognome, eta)\n",
    "    VALUES \n",
    "        ('Andrea', 'Mercuri', 49),\n",
    "        ('Alessandra', 'Rossi', 40),\n",
    "        ('Monica', 'Bianchi', 30)\n",
    "    \"\"\"\n",
    ")"
   ]
  },
  {
   "cell_type": "code",
   "execution_count": 15,
   "metadata": {},
   "outputs": [],
   "source": [
    "# commit delle modifiche\n",
    "conn.commit()"
   ]
  },
  {
   "cell_type": "code",
   "execution_count": 16,
   "metadata": {},
   "outputs": [
    {
     "data": {
      "text/plain": [
       "<sqlite3.Cursor at 0x17f90654bc0>"
      ]
     },
     "execution_count": 16,
     "metadata": {},
     "output_type": "execute_result"
    }
   ],
   "source": [
    "# Seleziona tutte le righe della tabella anagrafica\n",
    "cursor.execute(\"SELECT * FROM anagrafica\")"
   ]
  },
  {
   "cell_type": "code",
   "execution_count": 17,
   "metadata": {},
   "outputs": [
    {
     "data": {
      "text/plain": [
       "[('Andrea', 'Mercuri', 49),\n",
       " ('Alessandra', 'Rossi', 40),\n",
       " ('Monica', 'Bianchi', 30)]"
      ]
     },
     "execution_count": 17,
     "metadata": {},
     "output_type": "execute_result"
    }
   ],
   "source": [
    "cursor.fetchall()"
   ]
  },
  {
   "cell_type": "code",
   "execution_count": 19,
   "metadata": {},
   "outputs": [
    {
     "data": {
      "text/plain": [
       "<sqlite3.Cursor at 0x17f90654bc0>"
      ]
     },
     "execution_count": 19,
     "metadata": {},
     "output_type": "execute_result"
    }
   ],
   "source": [
    "# Seleziona tutte le righe della tabella anagrafica\n",
    "cursor.execute(\"SELECT * FROM anagrafica\")"
   ]
  },
  {
   "cell_type": "code",
   "execution_count": 20,
   "metadata": {},
   "outputs": [
    {
     "data": {
      "text/plain": [
       "(('Andrea', 'Mercuri', 49),\n",
       " ('Alessandra', 'Rossi', 40),\n",
       " ('Monica', 'Bianchi', 30))"
      ]
     },
     "execution_count": 20,
     "metadata": {},
     "output_type": "execute_result"
    }
   ],
   "source": [
    "cursor.fetchone(), cursor.fetchone(), cursor.fetchone()"
   ]
  },
  {
   "cell_type": "code",
   "execution_count": 22,
   "metadata": {},
   "outputs": [
    {
     "data": {
      "text/plain": [
       "<sqlite3.Cursor at 0x17f90654bc0>"
      ]
     },
     "execution_count": 22,
     "metadata": {},
     "output_type": "execute_result"
    }
   ],
   "source": [
    "# Seleziona tutte le righe della tabella anagrafica\n",
    "cursor.execute(\"SELECT * FROM anagrafica\")"
   ]
  },
  {
   "cell_type": "code",
   "execution_count": 23,
   "metadata": {},
   "outputs": [
    {
     "data": {
      "text/plain": [
       "([('Andrea', 'Mercuri', 49), ('Alessandra', 'Rossi', 40)],\n",
       " [('Monica', 'Bianchi', 30)])"
      ]
     },
     "execution_count": 23,
     "metadata": {},
     "output_type": "execute_result"
    }
   ],
   "source": [
    "cursor.fetchmany(2), cursor.fetchmany(2)"
   ]
  },
  {
   "cell_type": "code",
   "execution_count": 28,
   "metadata": {},
   "outputs": [],
   "source": [
    "# Chiude la connessione al database\n",
    "conn.close()"
   ]
  },
  {
   "cell_type": "code",
   "execution_count": 29,
   "metadata": {},
   "outputs": [],
   "source": [
    "# riapre la connessione al database\n",
    "conn = sqlite3.connect('example.db')"
   ]
  },
  {
   "cell_type": "code",
   "execution_count": 30,
   "metadata": {},
   "outputs": [],
   "source": [
    "cursor = conn.cursor()"
   ]
  },
  {
   "cell_type": "code",
   "execution_count": 32,
   "metadata": {},
   "outputs": [
    {
     "data": {
      "text/plain": [
       "<sqlite3.Cursor at 0x17f90bd26c0>"
      ]
     },
     "execution_count": 32,
     "metadata": {},
     "output_type": "execute_result"
    }
   ],
   "source": [
    "# Seleziona tutte le righe della tabella anagrafica\n",
    "cursor.execute(\"SELECT * FROM anagrafica\")"
   ]
  },
  {
   "cell_type": "code",
   "execution_count": 33,
   "metadata": {},
   "outputs": [
    {
     "name": "stdout",
     "output_type": "stream",
     "text": [
      "('Andrea', 'Mercuri', 49)\n",
      "('Alessandra', 'Rossi', 40)\n",
      "('Monica', 'Bianchi', 30)\n"
     ]
    }
   ],
   "source": [
    "# È possibile iterare sul cursore come alternativa all'invocazione delle fetch\n",
    "for row in cursor:\n",
    "    print(row)"
   ]
  },
  {
   "cell_type": "markdown",
   "metadata": {},
   "source": [
    "# I placeholders\n",
    "\n",
    "Il vantaggio di utilizzare i placeholder piuttosto che le f-string o altri metodi di composizione delle stringhe in Python è che i plaveholder proteggono il codice da attacchi di tipo [SQL injection](https://en.wikipedia.org/wiki/SQL_injection)."
   ]
  },
  {
   "cell_type": "code",
   "execution_count": 34,
   "metadata": {},
   "outputs": [
    {
     "data": {
      "text/plain": [
       "<sqlite3.Cursor at 0x17f90bd26c0>"
      ]
     },
     "execution_count": 34,
     "metadata": {},
     "output_type": "execute_result"
    }
   ],
   "source": [
    "# Inserisce una nuova riga nella tabella anagrafica\n",
    "cursor.execute(\"INSERT INTO anagrafica (nome, cognome, eta) VALUES ('Mario', 'Neri', 25)\")"
   ]
  },
  {
   "cell_type": "code",
   "execution_count": 35,
   "metadata": {},
   "outputs": [],
   "source": [
    "# commit delle modifiche\n",
    "conn.commit()"
   ]
  },
  {
   "cell_type": "code",
   "execution_count": 36,
   "metadata": {},
   "outputs": [
    {
     "data": {
      "text/plain": [
       "<sqlite3.Cursor at 0x17f90bd26c0>"
      ]
     },
     "execution_count": 36,
     "metadata": {},
     "output_type": "execute_result"
    }
   ],
   "source": [
    "cursor.execute(\"INSERT INTO anagrafica (nome, cognome, eta) VALUES (?, ?, ?)\", ('Luca', 'Verdi', 35))"
   ]
  },
  {
   "cell_type": "code",
   "execution_count": 37,
   "metadata": {},
   "outputs": [],
   "source": [
    "conn.commit()"
   ]
  },
  {
   "cell_type": "code",
   "execution_count": 38,
   "metadata": {},
   "outputs": [
    {
     "data": {
      "text/plain": [
       "<sqlite3.Cursor at 0x17f90bd26c0>"
      ]
     },
     "execution_count": 38,
     "metadata": {},
     "output_type": "execute_result"
    }
   ],
   "source": [
    "cursor.execute(\"INSERT INTO anagrafica (nome, cognome, eta) VALUES (:nome, :cognome, :eta)\", {'nome': 'Paolo', 'cognome': 'Gialli', 'eta': 45})"
   ]
  },
  {
   "cell_type": "code",
   "execution_count": 39,
   "metadata": {},
   "outputs": [],
   "source": [
    "# commit delle modifiche\n",
    "conn.commit()"
   ]
  },
  {
   "cell_type": "code",
   "execution_count": 44,
   "metadata": {},
   "outputs": [
    {
     "data": {
      "text/plain": [
       "<sqlite3.Cursor at 0x17f90bd26c0>"
      ]
     },
     "execution_count": 44,
     "metadata": {},
     "output_type": "execute_result"
    }
   ],
   "source": [
    "# esempio di attacco SQL injection. Notare che -- è un commento in SQL\n",
    "cursor.execute(\"SELECT * FROM anagrafica WHERE nome = '{}'\".format(\"Mario' OR 1=1 --\"))"
   ]
  },
  {
   "cell_type": "code",
   "execution_count": 45,
   "metadata": {},
   "outputs": [
    {
     "data": {
      "text/plain": [
       "[('Andrea', 'Mercuri', 49),\n",
       " ('Alessandra', 'Rossi', 40),\n",
       " ('Monica', 'Bianchi', 30),\n",
       " ('Mario', 'Neri', 25),\n",
       " ('Luca', 'Verdi', 35),\n",
       " ('Paolo', 'Gialli', 45)]"
      ]
     },
     "execution_count": 45,
     "metadata": {},
     "output_type": "execute_result"
    }
   ],
   "source": [
    "cursor.fetchall()"
   ]
  },
  {
   "cell_type": "code",
   "execution_count": 47,
   "metadata": {},
   "outputs": [
    {
     "data": {
      "text/plain": [
       "<sqlite3.Cursor at 0x17f90bd26c0>"
      ]
     },
     "execution_count": 47,
     "metadata": {},
     "output_type": "execute_result"
    }
   ],
   "source": [
    "cursor.execute(\"SELECT * FROM anagrafica WHERE nome = ?\", (\"Mario' OR 1=1 --\",))"
   ]
  },
  {
   "cell_type": "code",
   "execution_count": 48,
   "metadata": {},
   "outputs": [
    {
     "data": {
      "text/plain": [
       "[]"
      ]
     },
     "execution_count": 48,
     "metadata": {},
     "output_type": "execute_result"
    }
   ],
   "source": [
    "cursor.fetchall()"
   ]
  },
  {
   "cell_type": "markdown",
   "metadata": {},
   "source": [
    "# Connection come context manager"
   ]
  },
  {
   "cell_type": "code",
   "execution_count": 50,
   "metadata": {},
   "outputs": [
    {
     "ename": "ZeroDivisionError",
     "evalue": "division by zero",
     "output_type": "error",
     "traceback": [
      "\u001b[1;31m---------------------------------------------------------------------------\u001b[0m",
      "\u001b[1;31mZeroDivisionError\u001b[0m                         Traceback (most recent call last)",
      "Cell \u001b[1;32mIn[50], line 10\u001b[0m\n\u001b[0;32m      8\u001b[0m conn\u001b[38;5;241m.\u001b[39mexecute(\u001b[38;5;124m\"\u001b[39m\u001b[38;5;124mINSERT INTO anagrafica (nome, cognome, eta) VALUES (\u001b[39m\u001b[38;5;124m'\u001b[39m\u001b[38;5;124mGiuseppe\u001b[39m\u001b[38;5;124m'\u001b[39m\u001b[38;5;124m, \u001b[39m\u001b[38;5;124m'\u001b[39m\u001b[38;5;124mViola\u001b[39m\u001b[38;5;124m'\u001b[39m\u001b[38;5;124m, 65)\u001b[39m\u001b[38;5;124m\"\u001b[39m)\n\u001b[0;32m      9\u001b[0m conn\u001b[38;5;241m.\u001b[39mexecute(\u001b[38;5;124m\"\u001b[39m\u001b[38;5;124mINSERT INTO anagrafica (nome, cognome, eta) VALUES (\u001b[39m\u001b[38;5;124m'\u001b[39m\u001b[38;5;124mGiorgio\u001b[39m\u001b[38;5;124m'\u001b[39m\u001b[38;5;124m, \u001b[39m\u001b[38;5;124m'\u001b[39m\u001b[38;5;124mAzzurri\u001b[39m\u001b[38;5;124m'\u001b[39m\u001b[38;5;124m, 75)\u001b[39m\u001b[38;5;124m\"\u001b[39m)\n\u001b[1;32m---> 10\u001b[0m \u001b[38;5;241;43m1\u001b[39;49m\u001b[43m \u001b[49m\u001b[38;5;241;43m/\u001b[39;49m\u001b[43m \u001b[49m\u001b[38;5;241;43m0\u001b[39;49m\n",
      "\u001b[1;31mZeroDivisionError\u001b[0m: division by zero"
     ]
    }
   ],
   "source": [
    "# l'oggetto connessione è un context manager, quindi è possibile utilizzarlo in un blocco with.\n",
    "# In questo caso se si esce dal blocco with regolarmente (senza eccezioni) il commit viene eseguito automaticamente,\n",
    "# altrimenti viene eseguito il rollback.\n",
    "# Attenzione: quando il blocco with termina, la connessione non viene chiusa automaticamente.\n",
    "\n",
    "with conn:\n",
    "    conn.execute(\"INSERT INTO anagrafica (nome, cognome, eta) VALUES ('Giovanni', 'Rosa', 55)\")\n",
    "    conn.execute(\"INSERT INTO anagrafica (nome, cognome, eta) VALUES ('Giuseppe', 'Viola', 65)\")\n",
    "    conn.execute(\"INSERT INTO anagrafica (nome, cognome, eta) VALUES ('Giorgio', 'Azzurri', 75)\")\n",
    "    # genera un'eccezione, quindi il blocco with eseguirà il rollback\n",
    "    1 / 0"
   ]
  },
  {
   "cell_type": "code",
   "execution_count": 51,
   "metadata": {},
   "outputs": [
    {
     "data": {
      "text/plain": [
       "[('Andrea', 'Mercuri', 49),\n",
       " ('Alessandra', 'Rossi', 40),\n",
       " ('Monica', 'Bianchi', 30),\n",
       " ('Mario', 'Neri', 25),\n",
       " ('Luca', 'Verdi', 35),\n",
       " ('Paolo', 'Gialli', 45)]"
      ]
     },
     "execution_count": 51,
     "metadata": {},
     "output_type": "execute_result"
    }
   ],
   "source": [
    "# select di tutte le righe della tabella anagrafica\n",
    "cursor.execute(\"SELECT * FROM anagrafica\")\n",
    "cursor.fetchall()"
   ]
  },
  {
   "cell_type": "code",
   "execution_count": 52,
   "metadata": {},
   "outputs": [],
   "source": [
    "with conn:\n",
    "    conn.execute(\"INSERT INTO anagrafica (nome, cognome, eta) VALUES ('Giovanni', 'Rosa', 55)\")\n",
    "    conn.execute(\"INSERT INTO anagrafica (nome, cognome, eta) VALUES ('Giuseppe', 'Viola', 65)\")\n",
    "    conn.execute(\"INSERT INTO anagrafica (nome, cognome, eta) VALUES ('Giorgio', 'Azzurri', 75)\")\n",
    "    # nessuna eccezione, quindi il blocco with eseguirà il commit"
   ]
  },
  {
   "cell_type": "code",
   "execution_count": 53,
   "metadata": {},
   "outputs": [
    {
     "data": {
      "text/plain": [
       "[('Andrea', 'Mercuri', 49),\n",
       " ('Alessandra', 'Rossi', 40),\n",
       " ('Monica', 'Bianchi', 30),\n",
       " ('Mario', 'Neri', 25),\n",
       " ('Luca', 'Verdi', 35),\n",
       " ('Paolo', 'Gialli', 45),\n",
       " ('Giovanni', 'Rosa', 55),\n",
       " ('Giuseppe', 'Viola', 65),\n",
       " ('Giorgio', 'Azzurri', 75)]"
      ]
     },
     "execution_count": 53,
     "metadata": {},
     "output_type": "execute_result"
    }
   ],
   "source": [
    "# select di tutte le righe della tabella anagrafica\n",
    "cursor.execute(\"SELECT * FROM anagrafica\")\n",
    "cursor.fetchall()"
   ]
  },
  {
   "cell_type": "code",
   "execution_count": 54,
   "metadata": {},
   "outputs": [],
   "source": [
    "conn.execute(\"INSERT INTO anagrafica (nome, cognome, eta) VALUES ('Giacomino', 'Rosa', 55)\")\n",
    "conn.execute(\"INSERT INTO anagrafica (nome, cognome, eta) VALUES ('Pierino', 'Viola', 65)\")\n",
    "\n",
    "# rollback delle modifiche\n",
    "conn.rollback()"
   ]
  },
  {
   "cell_type": "code",
   "execution_count": 55,
   "metadata": {},
   "outputs": [
    {
     "data": {
      "text/plain": [
       "[('Andrea', 'Mercuri', 49),\n",
       " ('Alessandra', 'Rossi', 40),\n",
       " ('Monica', 'Bianchi', 30),\n",
       " ('Mario', 'Neri', 25),\n",
       " ('Luca', 'Verdi', 35),\n",
       " ('Paolo', 'Gialli', 45),\n",
       " ('Giovanni', 'Rosa', 55),\n",
       " ('Giuseppe', 'Viola', 65),\n",
       " ('Giorgio', 'Azzurri', 75)]"
      ]
     },
     "execution_count": 55,
     "metadata": {},
     "output_type": "execute_result"
    }
   ],
   "source": [
    "cursor.execute(\"SELECT * FROM anagrafica\")\n",
    "cursor.fetchall()"
   ]
  },
  {
   "cell_type": "code",
   "execution_count": null,
   "metadata": {},
   "outputs": [],
   "source": []
  }
 ],
 "metadata": {
  "kernelspec": {
   "display_name": "ml23",
   "language": "python",
   "name": "python3"
  },
  "language_info": {
   "codemirror_mode": {
    "name": "ipython",
    "version": 3
   },
   "file_extension": ".py",
   "mimetype": "text/x-python",
   "name": "python",
   "nbconvert_exporter": "python",
   "pygments_lexer": "ipython3",
   "version": "3.11.5"
  }
 },
 "nbformat": 4,
 "nbformat_minor": 2
}
