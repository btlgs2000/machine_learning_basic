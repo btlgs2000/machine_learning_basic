{
  "nbformat": 4,
  "nbformat_minor": 0,
  "metadata": {
    "colab": {
      "provenance": [],
      "toc_visible": true
    },
    "kernelspec": {
      "name": "python3",
      "display_name": "Python 3"
    },
    "language_info": {
      "name": "python"
    }
  },
  "cells": [
    {
      "cell_type": "code",
      "execution_count": null,
      "metadata": {
        "id": "thQ_-Ib4wt0L"
      },
      "outputs": [],
      "source": [
        "import polars as pl\n",
        "import pandas as pd\n",
        "import numpy as np\n",
        "\n",
        "from sklearn.datasets import load_iris\n",
        "\n",
        "from datetime import datetime"
      ]
    },
    {
      "cell_type": "markdown",
      "source": [
        "# series"
      ],
      "metadata": {
        "id": "NtYeOe4jxBRr"
      }
    },
    {
      "cell_type": "code",
      "source": [
        "s = pl.Series(\"series\", [1, 2, 3, 4], dtype=pl.Int64)\n",
        "print(s)"
      ],
      "metadata": {
        "colab": {
          "base_uri": "https://localhost:8080/"
        },
        "id": "yYGx7vb-wyDz",
        "outputId": "4bb8eafc-a4ca-46fc-b8a1-efdac62633d5"
      },
      "execution_count": null,
      "outputs": [
        {
          "output_type": "stream",
          "name": "stdout",
          "text": [
            "shape: (4,)\n",
            "Series: 'series' [i64]\n",
            "[\n",
            "\t1\n",
            "\t2\n",
            "\t3\n",
            "\t4\n",
            "]\n"
          ]
        }
      ]
    },
    {
      "cell_type": "markdown",
      "source": [
        "# dataframe"
      ],
      "metadata": {
        "id": "vxonwk1-xU6m"
      }
    },
    {
      "cell_type": "code",
      "source": [
        "df = pl.DataFrame(\n",
        "    {\n",
        "        \"integer\": [1, 2, 3, 4, 5],\n",
        "        \"date\": [\n",
        "            datetime(2022, 1, 1),\n",
        "            datetime(2022, 1, 2),\n",
        "            datetime(2022, 1, 3),\n",
        "            datetime(2022, 1, 4),\n",
        "            datetime(2022, 1, 5),\n",
        "        ],\n",
        "        \"float\": [4.0, 5.0, 6.0, 7.0, 8.0],\n",
        "    }\n",
        ")\n",
        "\n",
        "print(df)"
      ],
      "metadata": {
        "colab": {
          "base_uri": "https://localhost:8080/"
        },
        "id": "CybvyQ8ExJVd",
        "outputId": "b280bc66-4eb0-4ab3-bd17-13250f8f92a1"
      },
      "execution_count": null,
      "outputs": [
        {
          "output_type": "stream",
          "name": "stdout",
          "text": [
            "shape: (5, 3)\n",
            "┌─────────┬─────────────────────┬───────┐\n",
            "│ integer ┆ date                ┆ float │\n",
            "│ ---     ┆ ---                 ┆ ---   │\n",
            "│ i64     ┆ datetime[μs]        ┆ f64   │\n",
            "╞═════════╪═════════════════════╪═══════╡\n",
            "│ 1       ┆ 2022-01-01 00:00:00 ┆ 4.0   │\n",
            "│ 2       ┆ 2022-01-02 00:00:00 ┆ 5.0   │\n",
            "│ 3       ┆ 2022-01-03 00:00:00 ┆ 6.0   │\n",
            "│ 4       ┆ 2022-01-04 00:00:00 ┆ 7.0   │\n",
            "│ 5       ┆ 2022-01-05 00:00:00 ┆ 8.0   │\n",
            "└─────────┴─────────────────────┴───────┘\n"
          ]
        }
      ]
    },
    {
      "cell_type": "code",
      "source": [
        "df = pl.DataFrame(\n",
        "    {\n",
        "        \"nrs\": [1, 2, 3, None, 5],\n",
        "        \"names\": [\"foo\", \"ham\", \"spam\", \"egg\", None],\n",
        "        \"random\": np.random.rand(5),\n",
        "        \"groups\": [\"A\", \"A\", \"B\", \"C\", \"B\"],\n",
        "    }\n",
        ")\n",
        "print(df)"
      ],
      "metadata": {
        "colab": {
          "base_uri": "https://localhost:8080/"
        },
        "id": "Wx6Cg4ZM135k",
        "outputId": "fb844bb3-a7ad-48be-d99b-782a43d442e6"
      },
      "execution_count": null,
      "outputs": [
        {
          "output_type": "stream",
          "name": "stdout",
          "text": [
            "shape: (5, 4)\n",
            "┌──────┬───────┬──────────┬────────┐\n",
            "│ nrs  ┆ names ┆ random   ┆ groups │\n",
            "│ ---  ┆ ---   ┆ ---      ┆ ---    │\n",
            "│ i64  ┆ str   ┆ f64      ┆ str    │\n",
            "╞══════╪═══════╪══════════╪════════╡\n",
            "│ 1    ┆ foo   ┆ 0.021216 ┆ A      │\n",
            "│ 2    ┆ ham   ┆ 0.060035 ┆ A      │\n",
            "│ 3    ┆ spam  ┆ 0.260194 ┆ B      │\n",
            "│ null ┆ egg   ┆ 0.195607 ┆ C      │\n",
            "│ 5    ┆ null  ┆ 0.474002 ┆ B      │\n",
            "└──────┴───────┴──────────┴────────┘\n"
          ]
        }
      ]
    },
    {
      "cell_type": "markdown",
      "source": [
        "# Contesti"
      ],
      "metadata": {
        "id": "k0fUf92aEenc"
      }
    },
    {
      "cell_type": "markdown",
      "source": [
        "## select\n",
        "\n",
        "la funzione `with_columns` è simile alla select: La differenza è che con la withcolumns Le colonne originali rimangono , quelle nuove vengono aggiunte.\n"
      ],
      "metadata": {
        "id": "yM4pxrwX5Oh5"
      }
    },
    {
      "cell_type": "code",
      "source": [
        "# Applica delle espressioni alle colonne\n",
        "df.select(\n",
        "    pl.col(\"names\").sort(),\n",
        "    pl.col(\"random\").cum_sum().alias(\"random_cumsum\")\n",
        ")"
      ],
      "metadata": {
        "colab": {
          "base_uri": "https://localhost:8080/",
          "height": 255
        },
        "id": "wjzWuN2A5P26",
        "outputId": "cd9d8db7-9dd9-4e5a-e099-8ee51bf3b6eb"
      },
      "execution_count": null,
      "outputs": [
        {
          "output_type": "execute_result",
          "data": {
            "text/plain": [
              "shape: (5, 2)\n",
              "┌───────┬───────────────┐\n",
              "│ names ┆ random_cumsum │\n",
              "│ ---   ┆ ---           │\n",
              "│ str   ┆ f64           │\n",
              "╞═══════╪═══════════════╡\n",
              "│ null  ┆ 0.021216      │\n",
              "│ egg   ┆ 0.081251      │\n",
              "│ foo   ┆ 0.341445      │\n",
              "│ ham   ┆ 0.537052      │\n",
              "│ spam  ┆ 1.011054      │\n",
              "└───────┴───────────────┘"
            ],
            "text/html": [
              "<div><style>\n",
              ".dataframe > thead > tr,\n",
              ".dataframe > tbody > tr {\n",
              "  text-align: right;\n",
              "  white-space: pre-wrap;\n",
              "}\n",
              "</style>\n",
              "<small>shape: (5, 2)</small><table border=\"1\" class=\"dataframe\"><thead><tr><th>names</th><th>random_cumsum</th></tr><tr><td>str</td><td>f64</td></tr></thead><tbody><tr><td>null</td><td>0.021216</td></tr><tr><td>&quot;egg&quot;</td><td>0.081251</td></tr><tr><td>&quot;foo&quot;</td><td>0.341445</td></tr><tr><td>&quot;ham&quot;</td><td>0.537052</td></tr><tr><td>&quot;spam&quot;</td><td>1.011054</td></tr></tbody></table></div>"
            ]
          },
          "metadata": {},
          "execution_count": 5
        }
      ]
    },
    {
      "cell_type": "markdown",
      "source": [
        "## filter"
      ],
      "metadata": {
        "id": "WJVWVr6O6lBa"
      }
    },
    {
      "cell_type": "code",
      "source": [
        "df.filter(pl.col(\"random\") < 0.5)"
      ],
      "metadata": {
        "colab": {
          "base_uri": "https://localhost:8080/",
          "height": 255
        },
        "id": "WMSj8VgA5lOc",
        "outputId": "bb1980d9-25ad-4801-99ec-c87c8181c6b4"
      },
      "execution_count": null,
      "outputs": [
        {
          "output_type": "execute_result",
          "data": {
            "text/plain": [
              "shape: (5, 4)\n",
              "┌──────┬───────┬──────────┬────────┐\n",
              "│ nrs  ┆ names ┆ random   ┆ groups │\n",
              "│ ---  ┆ ---   ┆ ---      ┆ ---    │\n",
              "│ i64  ┆ str   ┆ f64      ┆ str    │\n",
              "╞══════╪═══════╪══════════╪════════╡\n",
              "│ 1    ┆ foo   ┆ 0.021216 ┆ A      │\n",
              "│ 2    ┆ ham   ┆ 0.060035 ┆ A      │\n",
              "│ 3    ┆ spam  ┆ 0.260194 ┆ B      │\n",
              "│ null ┆ egg   ┆ 0.195607 ┆ C      │\n",
              "│ 5    ┆ null  ┆ 0.474002 ┆ B      │\n",
              "└──────┴───────┴──────────┴────────┘"
            ],
            "text/html": [
              "<div><style>\n",
              ".dataframe > thead > tr,\n",
              ".dataframe > tbody > tr {\n",
              "  text-align: right;\n",
              "  white-space: pre-wrap;\n",
              "}\n",
              "</style>\n",
              "<small>shape: (5, 4)</small><table border=\"1\" class=\"dataframe\"><thead><tr><th>nrs</th><th>names</th><th>random</th><th>groups</th></tr><tr><td>i64</td><td>str</td><td>f64</td><td>str</td></tr></thead><tbody><tr><td>1</td><td>&quot;foo&quot;</td><td>0.021216</td><td>&quot;A&quot;</td></tr><tr><td>2</td><td>&quot;ham&quot;</td><td>0.060035</td><td>&quot;A&quot;</td></tr><tr><td>3</td><td>&quot;spam&quot;</td><td>0.260194</td><td>&quot;B&quot;</td></tr><tr><td>null</td><td>&quot;egg&quot;</td><td>0.195607</td><td>&quot;C&quot;</td></tr><tr><td>5</td><td>null</td><td>0.474002</td><td>&quot;B&quot;</td></tr></tbody></table></div>"
            ]
          },
          "metadata": {},
          "execution_count": 6
        }
      ]
    },
    {
      "cell_type": "markdown",
      "source": [
        "## groupby"
      ],
      "metadata": {
        "id": "4x_ezCGAEv6O"
      }
    },
    {
      "cell_type": "code",
      "source": [
        "df.group_by(\"groups\").agg(\n",
        "    pl.sum(\"nrs\"),  # sum nrs by groups\n",
        "    pl.col(\"random\").count().alias(\"count\"),  # count group members\n",
        "    # sum random where name != null\n",
        "    pl.col(\"random\").filter(pl.col(\"names\").is_not_null()).sum().name.suffix(\"_sum\"),\n",
        "    pl.col(\"names\").reverse().alias(\"reversed names\"),\n",
        ")"
      ],
      "metadata": {
        "colab": {
          "base_uri": "https://localhost:8080/",
          "height": 192
        },
        "id": "xNdLsiNI6s2s",
        "outputId": "7fae3a03-7b57-4bdb-e1ef-1b0418b7f9be"
      },
      "execution_count": null,
      "outputs": [
        {
          "output_type": "execute_result",
          "data": {
            "text/plain": [
              "shape: (3, 5)\n",
              "┌────────┬─────┬───────┬────────────┬────────────────┐\n",
              "│ groups ┆ nrs ┆ count ┆ random_sum ┆ reversed names │\n",
              "│ ---    ┆ --- ┆ ---   ┆ ---        ┆ ---            │\n",
              "│ str    ┆ i64 ┆ u32   ┆ f64        ┆ list[str]      │\n",
              "╞════════╪═════╪═══════╪════════════╪════════════════╡\n",
              "│ A      ┆ 3   ┆ 2     ┆ 0.081251   ┆ [\"ham\", \"foo\"] │\n",
              "│ B      ┆ 8   ┆ 2     ┆ 0.260194   ┆ [null, \"spam\"] │\n",
              "│ C      ┆ 0   ┆ 1     ┆ 0.195607   ┆ [\"egg\"]        │\n",
              "└────────┴─────┴───────┴────────────┴────────────────┘"
            ],
            "text/html": [
              "<div><style>\n",
              ".dataframe > thead > tr,\n",
              ".dataframe > tbody > tr {\n",
              "  text-align: right;\n",
              "  white-space: pre-wrap;\n",
              "}\n",
              "</style>\n",
              "<small>shape: (3, 5)</small><table border=\"1\" class=\"dataframe\"><thead><tr><th>groups</th><th>nrs</th><th>count</th><th>random_sum</th><th>reversed names</th></tr><tr><td>str</td><td>i64</td><td>u32</td><td>f64</td><td>list[str]</td></tr></thead><tbody><tr><td>&quot;A&quot;</td><td>3</td><td>2</td><td>0.081251</td><td>[&quot;ham&quot;, &quot;foo&quot;]</td></tr><tr><td>&quot;B&quot;</td><td>8</td><td>2</td><td>0.260194</td><td>[null, &quot;spam&quot;]</td></tr><tr><td>&quot;C&quot;</td><td>0</td><td>1</td><td>0.195607</td><td>[&quot;egg&quot;]</td></tr></tbody></table></div>"
            ]
          },
          "metadata": {},
          "execution_count": 7
        }
      ]
    },
    {
      "cell_type": "markdown",
      "source": [
        "# Espressioni"
      ],
      "metadata": {
        "id": "b6U3-wlUE8mX"
      }
    },
    {
      "cell_type": "code",
      "source": [
        "type(pl.col(\"foo\").sort().head(2))"
      ],
      "metadata": {
        "colab": {
          "base_uri": "https://localhost:8080/"
        },
        "id": "1yZ_14hZ67DX",
        "outputId": "ae894e3c-1513-430d-c6aa-18ebf8632ba2"
      },
      "execution_count": null,
      "outputs": [
        {
          "output_type": "execute_result",
          "data": {
            "text/plain": [
              "polars.expr.expr.Expr"
            ]
          },
          "metadata": {},
          "execution_count": 27
        }
      ]
    },
    {
      "cell_type": "markdown",
      "source": [
        "# Lazy vs Eager"
      ],
      "metadata": {
        "id": "TVPIFPFPFBWg"
      }
    },
    {
      "cell_type": "code",
      "source": [
        "df_iris = load_iris(as_frame=True)[\"frame\"]"
      ],
      "metadata": {
        "id": "W-RRx0JdGhki"
      },
      "execution_count": null,
      "outputs": []
    },
    {
      "cell_type": "code",
      "source": [
        "df_iris.columns = [\"sepal_length\", \"sepal_width\", \"petal_length\", \"petal_width\", \"target\"]"
      ],
      "metadata": {
        "colab": {
          "base_uri": "https://localhost:8080/"
        },
        "id": "j3kcQd7nGer6",
        "outputId": "90577cd3-067e-4903-eff0-fc79453a13bc"
      },
      "execution_count": null,
      "outputs": [
        {
          "output_type": "execute_result",
          "data": {
            "text/plain": [
              "Index(['sepal length (cm)', 'sepal width (cm)', 'petal length (cm)',\n",
              "       'petal width (cm)', 'target'],\n",
              "      dtype='object')"
            ]
          },
          "metadata": {},
          "execution_count": 37
        }
      ]
    },
    {
      "cell_type": "code",
      "source": [
        "# creo il csv Iris\n",
        "\n",
        "df_iris = load_iris(as_frame=True)[\"frame\"]\n",
        "\n",
        "# rename columns\n",
        "df_iris.columns = [\"sepal_length\", \"sepal_width\", \"petal_length\", \"petal_width\", \"species\"]\n",
        "\n",
        "df_iris.to_csv(\"iris.csv\")\n"
      ],
      "metadata": {
        "id": "1nAStv0pF6Fm"
      },
      "execution_count": null,
      "outputs": []
    },
    {
      "cell_type": "markdown",
      "source": [
        "## Eager"
      ],
      "metadata": {
        "id": "NjF8OmR7FrpM"
      }
    },
    {
      "cell_type": "code",
      "source": [
        "# legge il file csv\n",
        "df = pl.read_csv(\"iris.csv\")\n",
        "# solo i record con sepal_length > 5\n",
        "df_small = df.filter(pl.col(\"sepal_length\") > 5)\n",
        "# raggruppa per specie e calcola la larghezza media del sepalo per ogni specie\n",
        "df_agg = df_small.group_by(\"species\").agg(pl.col(\"sepal_width\").mean())\n",
        "print(df_agg)"
      ],
      "metadata": {
        "colab": {
          "base_uri": "https://localhost:8080/"
        },
        "id": "qJnoA-gqFmwM",
        "outputId": "acc9bc10-2f35-4ec7-c165-e707cc5b93f6"
      },
      "execution_count": null,
      "outputs": [
        {
          "output_type": "stream",
          "name": "stdout",
          "text": [
            "shape: (3, 2)\n",
            "┌─────────┬─────────────┐\n",
            "│ species ┆ sepal_width │\n",
            "│ ---     ┆ ---         │\n",
            "│ i64     ┆ f64         │\n",
            "╞═════════╪═════════════╡\n",
            "│ 2       ┆ 2.983673    │\n",
            "│ 0       ┆ 3.713636    │\n",
            "│ 1       ┆ 2.804255    │\n",
            "└─────────┴─────────────┘\n"
          ]
        }
      ]
    },
    {
      "cell_type": "markdown",
      "source": [
        "## Lazy"
      ],
      "metadata": {
        "id": "DIv2dRfkFtis"
      }
    },
    {
      "cell_type": "code",
      "source": [
        "q = (\n",
        "    pl.scan_csv(\"iris.csv\")\n",
        "    .filter(pl.col(\"sepal_length\") > 5)\n",
        "    .group_by(\"species\")\n",
        "    .agg(pl.col(\"sepal_width\").mean())\n",
        ")\n",
        "\n",
        "df = q.collect()\n",
        "print(df)"
      ],
      "metadata": {
        "colab": {
          "base_uri": "https://localhost:8080/"
        },
        "id": "FOu5LRb6HkJZ",
        "outputId": "00995141-5971-4437-ee13-25f92b0f0011"
      },
      "execution_count": null,
      "outputs": [
        {
          "output_type": "stream",
          "name": "stdout",
          "text": [
            "shape: (3, 2)\n",
            "┌─────────┬─────────────┐\n",
            "│ species ┆ sepal_width │\n",
            "│ ---     ┆ ---         │\n",
            "│ i64     ┆ f64         │\n",
            "╞═════════╪═════════════╡\n",
            "│ 0       ┆ 3.713636    │\n",
            "│ 2       ┆ 2.983673    │\n",
            "│ 1       ┆ 2.804255    │\n",
            "└─────────┴─────────────┘\n"
          ]
        }
      ]
    },
    {
      "cell_type": "markdown",
      "source": [
        "# Streaming API"
      ],
      "metadata": {
        "id": "DbdTCKqyFEjI"
      }
    },
    {
      "cell_type": "code",
      "source": [
        "q = (\n",
        "    pl.scan_csv(\"iris.csv\")\n",
        "    .filter(pl.col(\"sepal_length\") > 5)\n",
        "    .group_by(\"species\")\n",
        "    .agg(pl.col(\"sepal_width\").mean())\n",
        ")\n",
        "\n",
        "df = q.collect(streaming=True)\n",
        "print(df)"
      ],
      "metadata": {
        "colab": {
          "base_uri": "https://localhost:8080/"
        },
        "id": "TOSG12QhIcdG",
        "outputId": "06127f6a-192b-48c1-d8d5-caab5efa2223"
      },
      "execution_count": null,
      "outputs": [
        {
          "output_type": "stream",
          "name": "stdout",
          "text": [
            "shape: (3, 2)\n",
            "┌─────────┬─────────────┐\n",
            "│ species ┆ sepal_width │\n",
            "│ ---     ┆ ---         │\n",
            "│ i64     ┆ f64         │\n",
            "╞═════════╪═════════════╡\n",
            "│ 1       ┆ 2.804255    │\n",
            "│ 0       ┆ 3.713636    │\n",
            "│ 2       ┆ 2.983673    │\n",
            "└─────────┴─────────────┘\n"
          ]
        }
      ]
    },
    {
      "cell_type": "code",
      "source": [
        "print(q.explain(streaming=True))"
      ],
      "metadata": {
        "colab": {
          "base_uri": "https://localhost:8080/"
        },
        "id": "oESpsOHpIev2",
        "outputId": "2b0d31a1-b864-4a8d-e1df-7310bcb9fb06"
      },
      "execution_count": null,
      "outputs": [
        {
          "output_type": "stream",
          "name": "stdout",
          "text": [
            "--- STREAMING\n",
            "AGGREGATE\n",
            "\t[col(\"sepal_width\").mean()] BY [col(\"species\")] FROM\n",
            "\n",
            "    Csv SCAN iris.csv\n",
            "    PROJECT 3/6 COLUMNS\n",
            "    SELECTION: [(col(\"sepal_length\")) > (5.0)]  --- END STREAMING\n",
            "\n",
            "  DF []; PROJECT */0 COLUMNS; SELECTION: \"None\"\n"
          ]
        },
        {
          "output_type": "stream",
          "name": "stderr",
          "text": [
            "<ipython-input-47-a08fcb332bbd>:1: UserWarning: Cannot combine 'streaming' with 'comm_subplan_elim'. CSE will be turned off.\n",
            "  print(q.explain(streaming=True))\n"
          ]
        }
      ]
    },
    {
      "cell_type": "code",
      "source": [],
      "metadata": {
        "id": "3OQIXD-_InF_"
      },
      "execution_count": null,
      "outputs": []
    }
  ]
}