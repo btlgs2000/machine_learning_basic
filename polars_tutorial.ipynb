{
  "cells": [
    {
      "cell_type": "code",
      "execution_count": 2,
      "metadata": {
        "id": "thQ_-Ib4wt0L"
      },
      "outputs": [],
      "source": [
        "import polars as pl\n",
        "import pandas as pd\n",
        "import numpy as np\n",
        "\n",
        "from sklearn.datasets import load_iris\n",
        "\n",
        "from datetime import datetime"
      ]
    },
    {
      "cell_type": "markdown",
      "metadata": {
        "id": "NtYeOe4jxBRr"
      },
      "source": [
        "# series\n",
        "\n",
        "Una serie è una sequenza unidimensionale di valori dello stesso tipo."
      ]
    },
    {
      "cell_type": "code",
      "execution_count": 1,
      "metadata": {
        "colab": {
          "base_uri": "https://localhost:8080/"
        },
        "id": "yYGx7vb-wyDz",
        "outputId": "4bb8eafc-a4ca-46fc-b8a1-efdac62633d5"
      },
      "outputs": [
        {
          "ename": "NameError",
          "evalue": "name 'pl' is not defined",
          "output_type": "error",
          "traceback": [
            "\u001b[1;31m---------------------------------------------------------------------------\u001b[0m",
            "\u001b[1;31mNameError\u001b[0m                                 Traceback (most recent call last)",
            "Cell \u001b[1;32mIn[1], line 2\u001b[0m\n\u001b[0;32m      1\u001b[0m \u001b[38;5;66;03m# una serie di numeri interi\u001b[39;00m\n\u001b[1;32m----> 2\u001b[0m s \u001b[38;5;241m=\u001b[39m \u001b[43mpl\u001b[49m\u001b[38;5;241m.\u001b[39mSeries(\u001b[38;5;124m\"\u001b[39m\u001b[38;5;124mseries\u001b[39m\u001b[38;5;124m\"\u001b[39m, [\u001b[38;5;241m1\u001b[39m, \u001b[38;5;241m2\u001b[39m, \u001b[38;5;241m3\u001b[39m, \u001b[38;5;241m4\u001b[39m], dtype\u001b[38;5;241m=\u001b[39mpl\u001b[38;5;241m.\u001b[39mInt64)\n\u001b[0;32m      3\u001b[0m \u001b[38;5;28mprint\u001b[39m(s)\n",
            "\u001b[1;31mNameError\u001b[0m: name 'pl' is not defined"
          ]
        }
      ],
      "source": [
        "# una serie di numeri interi\n",
        "s = pl.Series(\"series\", [1, 2, 3, 4], dtype=pl.Int64)\n",
        "print(s)"
      ]
    },
    {
      "cell_type": "markdown",
      "metadata": {
        "id": "vxonwk1-xU6m"
      },
      "source": [
        "# dataframe\n",
        "\n",
        "Un dataframe è una tabella bidimensionale di dati, in cui ogni colonna può contenere valori di tipo diverso."
      ]
    },
    {
      "cell_type": "code",
      "execution_count": 3,
      "metadata": {
        "colab": {
          "base_uri": "https://localhost:8080/"
        },
        "id": "CybvyQ8ExJVd",
        "outputId": "b280bc66-4eb0-4ab3-bd17-13250f8f92a1"
      },
      "outputs": [
        {
          "name": "stdout",
          "output_type": "stream",
          "text": [
            "shape: (5, 3)\n",
            "┌─────────┬─────────────────────┬───────┐\n",
            "│ integer ┆ date                ┆ float │\n",
            "│ ---     ┆ ---                 ┆ ---   │\n",
            "│ i64     ┆ datetime[μs]        ┆ f64   │\n",
            "╞═════════╪═════════════════════╪═══════╡\n",
            "│ 1       ┆ 2022-01-01 00:00:00 ┆ 4.0   │\n",
            "│ 2       ┆ 2022-01-02 00:00:00 ┆ 5.0   │\n",
            "│ 3       ┆ 2022-01-03 00:00:00 ┆ 6.0   │\n",
            "│ 4       ┆ 2022-01-04 00:00:00 ┆ 7.0   │\n",
            "│ 5       ┆ 2022-01-05 00:00:00 ┆ 8.0   │\n",
            "└─────────┴─────────────────────┴───────┘\n"
          ]
        }
      ],
      "source": [
        "df = pl.DataFrame(\n",
        "    {\n",
        "        \"integer\": [1, 2, 3, 4, 5],\n",
        "        \"date\": [\n",
        "            datetime(2022, 1, 1),\n",
        "            datetime(2022, 1, 2),\n",
        "            datetime(2022, 1, 3),\n",
        "            datetime(2022, 1, 4),\n",
        "            datetime(2022, 1, 5),\n",
        "        ],\n",
        "        \"float\": [4.0, 5.0, 6.0, 7.0, 8.0],\n",
        "    }\n",
        ")\n",
        "\n",
        "print(df)"
      ]
    },
    {
      "cell_type": "code",
      "execution_count": 4,
      "metadata": {
        "colab": {
          "base_uri": "https://localhost:8080/"
        },
        "id": "Wx6Cg4ZM135k",
        "outputId": "fb844bb3-a7ad-48be-d99b-782a43d442e6"
      },
      "outputs": [
        {
          "name": "stdout",
          "output_type": "stream",
          "text": [
            "shape: (5, 4)\n",
            "┌──────┬───────┬──────────┬────────┐\n",
            "│ nrs  ┆ names ┆ random   ┆ groups │\n",
            "│ ---  ┆ ---   ┆ ---      ┆ ---    │\n",
            "│ i64  ┆ str   ┆ f64      ┆ str    │\n",
            "╞══════╪═══════╪══════════╪════════╡\n",
            "│ 1    ┆ foo   ┆ 0.245004 ┆ A      │\n",
            "│ 2    ┆ ham   ┆ 0.89495  ┆ A      │\n",
            "│ 3    ┆ spam  ┆ 0.680767 ┆ B      │\n",
            "│ null ┆ egg   ┆ 0.800706 ┆ C      │\n",
            "│ 5    ┆ null  ┆ 0.155166 ┆ B      │\n",
            "└──────┴───────┴──────────┴────────┘\n"
          ]
        }
      ],
      "source": [
        "df = pl.DataFrame(\n",
        "    {\n",
        "        \"nrs\": [1, 2, 3, None, 5],\n",
        "        \"names\": [\"foo\", \"ham\", \"spam\", \"egg\", None],\n",
        "        \"random\": np.random.rand(5),\n",
        "        \"groups\": [\"A\", \"A\", \"B\", \"C\", \"B\"],\n",
        "    }\n",
        ")\n",
        "print(df)"
      ]
    },
    {
      "cell_type": "markdown",
      "metadata": {
        "id": "k0fUf92aEenc"
      },
      "source": [
        "# Contesti"
      ]
    },
    {
      "cell_type": "markdown",
      "metadata": {
        "id": "yM4pxrwX5Oh5"
      },
      "source": [
        "## select\n",
        "\n",
        "la funzione `with_columns` è simile alla select: La differenza è che con la `with_columns` le colonne originali rimangono, quelle nuove vengono aggiunte.\n"
      ]
    },
    {
      "cell_type": "code",
      "execution_count": 22,
      "metadata": {
        "colab": {
          "base_uri": "https://localhost:8080/",
          "height": 255
        },
        "id": "wjzWuN2A5P26",
        "outputId": "cd9d8db7-9dd9-4e5a-e099-8ee51bf3b6eb"
      },
      "outputs": [
        {
          "data": {
            "text/html": [
              "<div><style>\n",
              ".dataframe > thead > tr,\n",
              ".dataframe > tbody > tr {\n",
              "  text-align: right;\n",
              "  white-space: pre-wrap;\n",
              "}\n",
              "</style>\n",
              "<small>shape: (5, 2)</small><table border=\"1\" class=\"dataframe\"><thead><tr><th>names</th><th>random_cumsum</th></tr><tr><td>str</td><td>f64</td></tr></thead><tbody><tr><td>null</td><td>0.465309</td></tr><tr><td>&quot;egg&quot;</td><td>1.199363</td></tr><tr><td>&quot;foo&quot;</td><td>1.541654</td></tr><tr><td>&quot;ham&quot;</td><td>1.859295</td></tr><tr><td>&quot;spam&quot;</td><td>2.199634</td></tr></tbody></table></div>"
            ],
            "text/plain": [
              "shape: (5, 2)\n",
              "┌───────┬───────────────┐\n",
              "│ names ┆ random_cumsum │\n",
              "│ ---   ┆ ---           │\n",
              "│ str   ┆ f64           │\n",
              "╞═══════╪═══════════════╡\n",
              "│ null  ┆ 0.465309      │\n",
              "│ egg   ┆ 1.199363      │\n",
              "│ foo   ┆ 1.541654      │\n",
              "│ ham   ┆ 1.859295      │\n",
              "│ spam  ┆ 2.199634      │\n",
              "└───────┴───────────────┘"
            ]
          },
          "execution_count": 22,
          "metadata": {},
          "output_type": "execute_result"
        }
      ],
      "source": [
        "# Applica delle espressioni alle colonne\n",
        "df.select(\n",
        "    pl.col(\"names\").sort(),\n",
        "    pl.col(\"random\").cum_sum().alias(\"random_cumsum\")\n",
        ")"
      ]
    },
    {
      "cell_type": "markdown",
      "metadata": {
        "id": "WJVWVr6O6lBa"
      },
      "source": [
        "## filter\n",
        "\n",
        "Seleziona le righe che soddisfano una condizione."
      ]
    },
    {
      "cell_type": "code",
      "execution_count": 23,
      "metadata": {
        "colab": {
          "base_uri": "https://localhost:8080/",
          "height": 255
        },
        "id": "WMSj8VgA5lOc",
        "outputId": "bb1980d9-25ad-4801-99ec-c87c8181c6b4"
      },
      "outputs": [
        {
          "data": {
            "text/html": [
              "<div><style>\n",
              ".dataframe > thead > tr,\n",
              ".dataframe > tbody > tr {\n",
              "  text-align: right;\n",
              "  white-space: pre-wrap;\n",
              "}\n",
              "</style>\n",
              "<small>shape: (4, 4)</small><table border=\"1\" class=\"dataframe\"><thead><tr><th>nrs</th><th>names</th><th>random</th><th>groups</th></tr><tr><td>i64</td><td>str</td><td>f64</td><td>str</td></tr></thead><tbody><tr><td>1</td><td>&quot;foo&quot;</td><td>0.465309</td><td>&quot;A&quot;</td></tr><tr><td>3</td><td>&quot;spam&quot;</td><td>0.342291</td><td>&quot;B&quot;</td></tr><tr><td>null</td><td>&quot;egg&quot;</td><td>0.317641</td><td>&quot;C&quot;</td></tr><tr><td>5</td><td>null</td><td>0.340339</td><td>&quot;B&quot;</td></tr></tbody></table></div>"
            ],
            "text/plain": [
              "shape: (4, 4)\n",
              "┌──────┬───────┬──────────┬────────┐\n",
              "│ nrs  ┆ names ┆ random   ┆ groups │\n",
              "│ ---  ┆ ---   ┆ ---      ┆ ---    │\n",
              "│ i64  ┆ str   ┆ f64      ┆ str    │\n",
              "╞══════╪═══════╪══════════╪════════╡\n",
              "│ 1    ┆ foo   ┆ 0.465309 ┆ A      │\n",
              "│ 3    ┆ spam  ┆ 0.342291 ┆ B      │\n",
              "│ null ┆ egg   ┆ 0.317641 ┆ C      │\n",
              "│ 5    ┆ null  ┆ 0.340339 ┆ B      │\n",
              "└──────┴───────┴──────────┴────────┘"
            ]
          },
          "execution_count": 23,
          "metadata": {},
          "output_type": "execute_result"
        }
      ],
      "source": [
        "df.filter(pl.col(\"random\") < 0.5)"
      ]
    },
    {
      "cell_type": "markdown",
      "metadata": {},
      "source": [
        "<br>Si possono concatenare più filtri con l'operatore `&` (and) o `|` (or)."
      ]
    },
    {
      "cell_type": "code",
      "execution_count": 30,
      "metadata": {},
      "outputs": [
        {
          "data": {
            "text/html": [
              "<div><style>\n",
              ".dataframe > thead > tr,\n",
              ".dataframe > tbody > tr {\n",
              "  text-align: right;\n",
              "  white-space: pre-wrap;\n",
              "}\n",
              "</style>\n",
              "<small>shape: (3, 4)</small><table border=\"1\" class=\"dataframe\"><thead><tr><th>nrs</th><th>names</th><th>random</th><th>groups</th></tr><tr><td>i64</td><td>str</td><td>f64</td><td>str</td></tr></thead><tbody><tr><td>1</td><td>&quot;foo&quot;</td><td>0.465309</td><td>&quot;A&quot;</td></tr><tr><td>3</td><td>&quot;spam&quot;</td><td>0.342291</td><td>&quot;B&quot;</td></tr><tr><td>5</td><td>null</td><td>0.340339</td><td>&quot;B&quot;</td></tr></tbody></table></div>"
            ],
            "text/plain": [
              "shape: (3, 4)\n",
              "┌─────┬───────┬──────────┬────────┐\n",
              "│ nrs ┆ names ┆ random   ┆ groups │\n",
              "│ --- ┆ ---   ┆ ---      ┆ ---    │\n",
              "│ i64 ┆ str   ┆ f64      ┆ str    │\n",
              "╞═════╪═══════╪══════════╪════════╡\n",
              "│ 1   ┆ foo   ┆ 0.465309 ┆ A      │\n",
              "│ 3   ┆ spam  ┆ 0.342291 ┆ B      │\n",
              "│ 5   ┆ null  ┆ 0.340339 ┆ B      │\n",
              "└─────┴───────┴──────────┴────────┘"
            ]
          },
          "execution_count": 30,
          "metadata": {},
          "output_type": "execute_result"
        }
      ],
      "source": [
        "df.filter((pl.col(\"random\") < 0.7) & (pl.col(\"random\") > 0.32))"
      ]
    },
    {
      "cell_type": "markdown",
      "metadata": {},
      "source": [
        "Passare più filtri come argomenti è equivalente a concatenarli con l'operatore `&`."
      ]
    },
    {
      "cell_type": "code",
      "execution_count": 31,
      "metadata": {},
      "outputs": [
        {
          "data": {
            "text/html": [
              "<div><style>\n",
              ".dataframe > thead > tr,\n",
              ".dataframe > tbody > tr {\n",
              "  text-align: right;\n",
              "  white-space: pre-wrap;\n",
              "}\n",
              "</style>\n",
              "<small>shape: (3, 4)</small><table border=\"1\" class=\"dataframe\"><thead><tr><th>nrs</th><th>names</th><th>random</th><th>groups</th></tr><tr><td>i64</td><td>str</td><td>f64</td><td>str</td></tr></thead><tbody><tr><td>1</td><td>&quot;foo&quot;</td><td>0.465309</td><td>&quot;A&quot;</td></tr><tr><td>3</td><td>&quot;spam&quot;</td><td>0.342291</td><td>&quot;B&quot;</td></tr><tr><td>5</td><td>null</td><td>0.340339</td><td>&quot;B&quot;</td></tr></tbody></table></div>"
            ],
            "text/plain": [
              "shape: (3, 4)\n",
              "┌─────┬───────┬──────────┬────────┐\n",
              "│ nrs ┆ names ┆ random   ┆ groups │\n",
              "│ --- ┆ ---   ┆ ---      ┆ ---    │\n",
              "│ i64 ┆ str   ┆ f64      ┆ str    │\n",
              "╞═════╪═══════╪══════════╪════════╡\n",
              "│ 1   ┆ foo   ┆ 0.465309 ┆ A      │\n",
              "│ 3   ┆ spam  ┆ 0.342291 ┆ B      │\n",
              "│ 5   ┆ null  ┆ 0.340339 ┆ B      │\n",
              "└─────┴───────┴──────────┴────────┘"
            ]
          },
          "execution_count": 31,
          "metadata": {},
          "output_type": "execute_result"
        }
      ],
      "source": [
        "df.filter(pl.col(\"random\") < 0.7, pl.col(\"random\") > 0.32)"
      ]
    },
    {
      "cell_type": "markdown",
      "metadata": {},
      "source": [
        "<br>Si possono specificare poi una serie di uguaglianze che devono essere soddisfatte con dei parametri che\n",
        "hanno i nomi delle colonne"
      ]
    },
    {
      "cell_type": "code",
      "execution_count": 25,
      "metadata": {},
      "outputs": [
        {
          "data": {
            "text/html": [
              "<div><style>\n",
              ".dataframe > thead > tr,\n",
              ".dataframe > tbody > tr {\n",
              "  text-align: right;\n",
              "  white-space: pre-wrap;\n",
              "}\n",
              "</style>\n",
              "<small>shape: (2, 4)</small><table border=\"1\" class=\"dataframe\"><thead><tr><th>nrs</th><th>names</th><th>random</th><th>groups</th></tr><tr><td>i64</td><td>str</td><td>f64</td><td>str</td></tr></thead><tbody><tr><td>3</td><td>&quot;spam&quot;</td><td>0.342291</td><td>&quot;B&quot;</td></tr><tr><td>5</td><td>null</td><td>0.340339</td><td>&quot;B&quot;</td></tr></tbody></table></div>"
            ],
            "text/plain": [
              "shape: (2, 4)\n",
              "┌─────┬───────┬──────────┬────────┐\n",
              "│ nrs ┆ names ┆ random   ┆ groups │\n",
              "│ --- ┆ ---   ┆ ---      ┆ ---    │\n",
              "│ i64 ┆ str   ┆ f64      ┆ str    │\n",
              "╞═════╪═══════╪══════════╪════════╡\n",
              "│ 3   ┆ spam  ┆ 0.342291 ┆ B      │\n",
              "│ 5   ┆ null  ┆ 0.340339 ┆ B      │\n",
              "└─────┴───────┴──────────┴────────┘"
            ]
          },
          "execution_count": 25,
          "metadata": {},
          "output_type": "execute_result"
        }
      ],
      "source": [
        "df.filter(pl.col(\"random\") < 0.5, groups=\"B\")"
      ]
    },
    {
      "cell_type": "markdown",
      "metadata": {
        "id": "4x_ezCGAEv6O"
      },
      "source": [
        "## groupby\n",
        "\n",
        "Raggrouppa i dati in base ai valori di una o più colonne e poi applica una o più funzioni di aggregazione."
      ]
    },
    {
      "cell_type": "code",
      "execution_count": 7,
      "metadata": {
        "colab": {
          "base_uri": "https://localhost:8080/",
          "height": 192
        },
        "id": "xNdLsiNI6s2s",
        "outputId": "7fae3a03-7b57-4bdb-e1ef-1b0418b7f9be"
      },
      "outputs": [
        {
          "data": {
            "text/html": [
              "<div><style>\n",
              ".dataframe > thead > tr,\n",
              ".dataframe > tbody > tr {\n",
              "  text-align: right;\n",
              "  white-space: pre-wrap;\n",
              "}\n",
              "</style>\n",
              "<small>shape: (3, 5)</small><table border=\"1\" class=\"dataframe\"><thead><tr><th>groups</th><th>nrs</th><th>count</th><th>random_sum</th><th>reversed names</th></tr><tr><td>str</td><td>i64</td><td>u32</td><td>f64</td><td>list[str]</td></tr></thead><tbody><tr><td>&quot;B&quot;</td><td>8</td><td>2</td><td>0.708213</td><td>[null, &quot;spam&quot;]</td></tr><tr><td>&quot;A&quot;</td><td>3</td><td>2</td><td>0.864429</td><td>[&quot;ham&quot;, &quot;foo&quot;]</td></tr><tr><td>&quot;C&quot;</td><td>0</td><td>1</td><td>0.636089</td><td>[&quot;egg&quot;]</td></tr></tbody></table></div>"
            ],
            "text/plain": [
              "shape: (3, 5)\n",
              "┌────────┬─────┬───────┬────────────┬────────────────┐\n",
              "│ groups ┆ nrs ┆ count ┆ random_sum ┆ reversed names │\n",
              "│ ---    ┆ --- ┆ ---   ┆ ---        ┆ ---            │\n",
              "│ str    ┆ i64 ┆ u32   ┆ f64        ┆ list[str]      │\n",
              "╞════════╪═════╪═══════╪════════════╪════════════════╡\n",
              "│ B      ┆ 8   ┆ 2     ┆ 0.708213   ┆ [null, \"spam\"] │\n",
              "│ A      ┆ 3   ┆ 2     ┆ 0.864429   ┆ [\"ham\", \"foo\"] │\n",
              "│ C      ┆ 0   ┆ 1     ┆ 0.636089   ┆ [\"egg\"]        │\n",
              "└────────┴─────┴───────┴────────────┴────────────────┘"
            ]
          },
          "execution_count": 7,
          "metadata": {},
          "output_type": "execute_result"
        }
      ],
      "source": [
        "df.group_by(\"groups\").agg(\n",
        "    pl.sum(\"nrs\"),  # sum nrs by groups\n",
        "    pl.col(\"random\").count().alias(\"count\"),  # count group members\n",
        "    # sum random where name != null\n",
        "    pl.col(\"random\").filter(pl.col(\"names\").is_not_null()).sum().name.suffix(\"_sum\"),\n",
        "    pl.col(\"names\").reverse().alias(\"reversed names\"),\n",
        ")"
      ]
    },
    {
      "cell_type": "markdown",
      "metadata": {
        "id": "b6U3-wlUE8mX"
      },
      "source": [
        "# Espressioni\n",
        "\n",
        "Un'espressione restituisce una serie."
      ]
    },
    {
      "cell_type": "code",
      "execution_count": 8,
      "metadata": {
        "colab": {
          "base_uri": "https://localhost:8080/"
        },
        "id": "1yZ_14hZ67DX",
        "outputId": "ae894e3c-1513-430d-c6aa-18ebf8632ba2"
      },
      "outputs": [
        {
          "data": {
            "text/plain": [
              "polars.expr.expr.Expr"
            ]
          },
          "execution_count": 8,
          "metadata": {},
          "output_type": "execute_result"
        }
      ],
      "source": [
        "# una semplice espressione che rappresenta una colonna\n",
        "exp1 = pl.col(\"a string column\")\n",
        "\n",
        "type(exp1)"
      ]
    },
    {
      "cell_type": "code",
      "execution_count": 9,
      "metadata": {},
      "outputs": [
        {
          "data": {
            "text/plain": [
              "polars.expr.expr.Expr"
            ]
          },
          "execution_count": 9,
          "metadata": {},
          "output_type": "execute_result"
        }
      ],
      "source": [
        "# una semplice espressione che rappresenta una costante\n",
        "exp2 = pl.lit(\"_suffix\")\n",
        "\n",
        "type(exp2)"
      ]
    },
    {
      "cell_type": "code",
      "execution_count": 10,
      "metadata": {},
      "outputs": [],
      "source": [
        "# le espessioni possono essere combinate. exp3 è una nuova espressione\n",
        "# che rappresenta la concatenazione di exp1 e exp2\n",
        "exp3 = exp1 + exp2"
      ]
    },
    {
      "cell_type": "code",
      "execution_count": 11,
      "metadata": {},
      "outputs": [
        {
          "data": {
            "text/plain": [
              "polars.expr.expr.Expr"
            ]
          },
          "execution_count": 11,
          "metadata": {},
          "output_type": "execute_result"
        }
      ],
      "source": [
        "# concatenazione di più espessioni\n",
        "# 1. seleziona la colonna \"a column\"\n",
        "# 2. filtra i valori maggiori di 5\n",
        "# 3. ordina in ordine decrescente\n",
        "# 4. assegna il risultato a \"output column\"\n",
        "exp = (\n",
        "    pl.col(\"a column\").\n",
        "    filter(pl.col(\"a column\") > 5).\n",
        "    sort(descending=True).\n",
        "    alias(\"output column\")\n",
        ")\n",
        "\n",
        "type(exp)"
      ]
    },
    {
      "cell_type": "markdown",
      "metadata": {
        "id": "TVPIFPFPFBWg"
      },
      "source": [
        "# Lazy vs Eager"
      ]
    },
    {
      "cell_type": "code",
      "execution_count": 12,
      "metadata": {
        "id": "1nAStv0pF6Fm"
      },
      "outputs": [],
      "source": [
        "# creo il csv Iris\n",
        "\n",
        "df_iris = load_iris(as_frame=True)[\"frame\"]\n",
        "\n",
        "# rename columns\n",
        "df_iris.columns = [\"sepal_length\", \"sepal_width\", \"petal_length\", \"petal_width\", \"species\"]\n",
        "\n",
        "df_iris.to_csv(\"data/iris.csv\")\n"
      ]
    },
    {
      "cell_type": "markdown",
      "metadata": {
        "id": "NjF8OmR7FrpM"
      },
      "source": [
        "## Eager"
      ]
    },
    {
      "cell_type": "code",
      "execution_count": 13,
      "metadata": {
        "colab": {
          "base_uri": "https://localhost:8080/"
        },
        "id": "qJnoA-gqFmwM",
        "outputId": "acc9bc10-2f35-4ec7-c165-e707cc5b93f6"
      },
      "outputs": [
        {
          "name": "stdout",
          "output_type": "stream",
          "text": [
            "shape: (3, 2)\n",
            "┌─────────┬─────────────┐\n",
            "│ species ┆ sepal_width │\n",
            "│ ---     ┆ ---         │\n",
            "│ i64     ┆ f64         │\n",
            "╞═════════╪═════════════╡\n",
            "│ 2       ┆ 2.983673    │\n",
            "│ 0       ┆ 3.713636    │\n",
            "│ 1       ┆ 2.804255    │\n",
            "└─────────┴─────────────┘\n"
          ]
        }
      ],
      "source": [
        "# legge il file csv\n",
        "df = pl.read_csv(\"data/iris.csv\")\n",
        "# solo i record con sepal_length > 5\n",
        "df_small = df.filter(pl.col(\"sepal_length\") > 5)\n",
        "# raggruppa per specie e calcola la larghezza media del sepalo per ogni specie\n",
        "df_agg = df_small.group_by(\"species\").agg(pl.col(\"sepal_width\").mean())\n",
        "print(df_agg)"
      ]
    },
    {
      "cell_type": "markdown",
      "metadata": {
        "id": "DIv2dRfkFtis"
      },
      "source": [
        "## Lazy\n",
        "\n",
        "Una query lazy può iniziare con\n",
        "1. la lettura di un file con una funzione del tipo `scan_*`\n",
        "2. la trasformazione di un Dataframe in un LazyFrame con il metodo `lazy`\n",
        "\n",
        "Alla fine di una query lazy si ottiene il risultato con il metodo `collect`.\n",
        "<br> Alternativamente, a scopo di debug, si può usare il metodo `fetch` che legge dalla sorgente solo le prime $n$ righe.\n",
        "\n",
        "[Qui](https://docs.pola.rs/user-guide/lazy/optimizations/) vengono spiegate le ottimizzazioni che vengono fatte quando si lavora con query lazy."
      ]
    },
    {
      "cell_type": "code",
      "execution_count": 14,
      "metadata": {
        "colab": {
          "base_uri": "https://localhost:8080/"
        },
        "id": "FOu5LRb6HkJZ",
        "outputId": "00995141-5971-4437-ee13-25f92b0f0011"
      },
      "outputs": [
        {
          "name": "stdout",
          "output_type": "stream",
          "text": [
            "shape: (3, 2)\n",
            "┌─────────┬─────────────┐\n",
            "│ species ┆ sepal_width │\n",
            "│ ---     ┆ ---         │\n",
            "│ i64     ┆ f64         │\n",
            "╞═════════╪═════════════╡\n",
            "│ 1       ┆ 2.804255    │\n",
            "│ 2       ┆ 2.983673    │\n",
            "│ 0       ┆ 3.713636    │\n",
            "└─────────┴─────────────┘\n"
          ]
        }
      ],
      "source": [
        "q = (\n",
        "    pl.scan_csv(\"data/iris.csv\")\n",
        "    .filter(pl.col(\"sepal_length\") > 5)\n",
        "    .group_by(\"species\")\n",
        "    .agg(pl.col(\"sepal_width\").mean())\n",
        ")\n",
        "\n",
        "df = q.collect()\n",
        "print(df)"
      ]
    },
    {
      "cell_type": "markdown",
      "metadata": {
        "id": "DbdTCKqyFEjI"
      },
      "source": [
        "# Streaming API"
      ]
    },
    {
      "cell_type": "code",
      "execution_count": 16,
      "metadata": {
        "colab": {
          "base_uri": "https://localhost:8080/"
        },
        "id": "TOSG12QhIcdG",
        "outputId": "06127f6a-192b-48c1-d8d5-caab5efa2223"
      },
      "outputs": [
        {
          "name": "stdout",
          "output_type": "stream",
          "text": [
            "shape: (3, 2)\n",
            "┌─────────┬─────────────┐\n",
            "│ species ┆ sepal_width │\n",
            "│ ---     ┆ ---         │\n",
            "│ i64     ┆ f64         │\n",
            "╞═════════╪═════════════╡\n",
            "│ 1       ┆ 2.804255    │\n",
            "│ 0       ┆ 3.713636    │\n",
            "│ 2       ┆ 2.983673    │\n",
            "└─────────┴─────────────┘\n"
          ]
        }
      ],
      "source": [
        "q = (\n",
        "    pl.scan_csv(\"data/iris.csv\")\n",
        "    .filter(pl.col(\"sepal_length\") > 5)\n",
        "    .group_by(\"species\")\n",
        "    .agg(pl.col(\"sepal_width\").mean())\n",
        ")\n",
        "\n",
        "df = q.collect(streaming=True)\n",
        "print(df)"
      ]
    },
    {
      "cell_type": "code",
      "execution_count": null,
      "metadata": {
        "colab": {
          "base_uri": "https://localhost:8080/"
        },
        "id": "oESpsOHpIev2",
        "outputId": "2b0d31a1-b864-4a8d-e1df-7310bcb9fb06"
      },
      "outputs": [
        {
          "name": "stdout",
          "output_type": "stream",
          "text": [
            "--- STREAMING\n",
            "AGGREGATE\n",
            "\t[col(\"sepal_width\").mean()] BY [col(\"species\")] FROM\n",
            "\n",
            "    Csv SCAN iris.csv\n",
            "    PROJECT 3/6 COLUMNS\n",
            "    SELECTION: [(col(\"sepal_length\")) > (5.0)]  --- END STREAMING\n",
            "\n",
            "  DF []; PROJECT */0 COLUMNS; SELECTION: \"None\"\n"
          ]
        },
        {
          "name": "stderr",
          "output_type": "stream",
          "text": [
            "<ipython-input-47-a08fcb332bbd>:1: UserWarning: Cannot combine 'streaming' with 'comm_subplan_elim'. CSE will be turned off.\n",
            "  print(q.explain(streaming=True))\n"
          ]
        }
      ],
      "source": [
        "print(q.explain(streaming=True))"
      ]
    },
    {
      "cell_type": "markdown",
      "metadata": {},
      "source": [
        "# Trasformazioni"
      ]
    },
    {
      "cell_type": "markdown",
      "metadata": {},
      "source": [
        "## Join"
      ]
    },
    {
      "cell_type": "markdown",
      "metadata": {},
      "source": [
        "## Concatenzione"
      ]
    },
    {
      "cell_type": "markdown",
      "metadata": {},
      "source": [
        "## Pivot"
      ]
    },
    {
      "cell_type": "markdown",
      "metadata": {},
      "source": [
        "## Melts"
      ]
    },
    {
      "cell_type": "markdown",
      "metadata": {},
      "source": [
        "## Time series"
      ]
    },
    {
      "cell_type": "markdown",
      "metadata": {},
      "source": [
        "# Valori mancanti\n",
        "\n",
        "In polars i valori mancanti sono rappresentati da null (non da NaN). Nei tipi numerici un valore può essere NaN, ma polars non lo considera un valore mancante.\n",
        "<br>Diveso comportamento rispetto tra null e NaN:\n",
        "<br>se si fa la media di una colonna con valori NaN, il risultato sarà NaN, mentre se si fa la media di una colonna con valori null, il risultato sarà la media dei valori non nulli.\n",
        "\n",
        "Funzioni per gestire i valori mancanti:\n",
        "<br>\n",
        "`is_null()`: restituisce un booleano che indica se il valore è mancante\n",
        "<br>\n",
        "`null_count()`: restituisce il numero di valori mancanti\n",
        "<br>\n",
        "`fill_null()`: sostituisce i valori mancanti con un valore specificato\n",
        "<br>\n",
        "`is_nan()`: restituisce un booleano che indica se il valore è NaN\n",
        "<br>\n",
        "`fill_nan()`: sostituisce i valori NaN con un valore specificato"
      ]
    }
  ],
  "metadata": {
    "colab": {
      "provenance": [],
      "toc_visible": true
    },
    "kernelspec": {
      "display_name": "Python 3",
      "name": "python3"
    },
    "language_info": {
      "codemirror_mode": {
        "name": "ipython",
        "version": 3
      },
      "file_extension": ".py",
      "mimetype": "text/x-python",
      "name": "python",
      "nbconvert_exporter": "python",
      "pygments_lexer": "ipython3",
      "version": "3.11.5"
    }
  },
  "nbformat": 4,
  "nbformat_minor": 0
}
